{
 "cells": [
  {
   "cell_type": "code",
   "execution_count": 2,
   "id": "2b2695dc-9df0-4979-8592-39d27585669a",
   "metadata": {},
   "outputs": [
    {
     "name": "stderr",
     "output_type": "stream",
     "text": [
      "C:\\Users\\Enric\\AppData\\Local\\Programs\\Python\\Python312\\Lib\\site-packages\\tqdm\\auto.py:21: TqdmWarning: IProgress not found. Please update jupyter and ipywidgets. See https://ipywidgets.readthedocs.io/en/stable/user_install.html\n",
      "  from .autonotebook import tqdm as notebook_tqdm\n"
     ]
    }
   ],
   "source": [
    "import matplotlib.pyplot as plt\n",
    "from sklearn.preprocessing import LabelEncoder, StandardScaler\n",
    "from xgboost import XGBClassifier\n",
    "from sklearn.model_selection import train_test_split\n",
    "import os \n",
    "import pandas as pd\n",
    "from catboost import CatBoostClassifier\n",
    "from sklearn.tree import DecisionTreeClassifier\n",
    "from sklearn.inspection import permutation_importance\n",
    "from sklearn.ensemble import RandomForestClassifier\n",
    "import shap\n",
    "import lime\n",
    "import lime.lime_tabular"
   ]
  },
  {
   "cell_type": "markdown",
   "id": "562cc63c-f4c5-4bb3-9df4-cf5e4b39b3ab",
   "metadata": {},
   "source": [
    "# Feature importance"
   ]
  },
  {
   "cell_type": "code",
   "execution_count": 3,
   "id": "da63866d-ede3-48d8-a460-2fbfea53e25b",
   "metadata": {},
   "outputs": [],
   "source": [
    "folder = r'..\\Dataset_simulazione'\n"
   ]
  },
  {
   "cell_type": "code",
   "execution_count": 4,
   "id": "5913c98c-7f40-479e-94f7-9144a0dfc63d",
   "metadata": {},
   "outputs": [],
   "source": [
    "target = 'techniques_mitre'"
   ]
  },
  {
   "cell_type": "code",
   "execution_count": 5,
   "id": "ab0ae23f-415f-4da1-be28-c1b9fa2e3cbb",
   "metadata": {},
   "outputs": [],
   "source": [
    "def prepare_dataframe(df, target, scale=False):\n",
    "    # Preprocess categorical features\n",
    "    X = df.drop(target, axis=1)\n",
    "    y = df[target]\n",
    "\n",
    "    le = LabelEncoder()\n",
    "    y_encoded = le.fit_transform(y)\n",
    "\n",
    "    # Split data into training and testing sets\n",
    "    X_train, X_test, y_train, y_test = train_test_split(X, y_encoded, test_size=0.2, random_state=42)\n",
    "\n",
    "    if scale:\n",
    "        # Initialize the scaler\n",
    "        scaler = StandardScaler()\n",
    "\n",
    "        # Fit the scaler on the training data and transform both training and test data\n",
    "        X_train_scaled = scaler.fit_transform(X_train)\n",
    "        X_test_scaled = scaler.transform(X_test)\n",
    "        return X, X_train_scaled, y_train, X_test_scaled, y_test\n",
    "        \n",
    "    return X, X_train, y_train, X_test, y_test"
   ]
  },
  {
   "cell_type": "markdown",
   "id": "5cffaa44-94c2-4ef8-9d23-6f3b991ba06b",
   "metadata": {},
   "source": [
    "# catBoost\n"
   ]
  },
  {
   "cell_type": "code",
   "execution_count": 28,
   "id": "deeb58e2-bca6-424c-a0fd-887e8e223aae",
   "metadata": {},
   "outputs": [],
   "source": [
    "def catboost_features_importance(file, target):\n",
    "    file_path = os.path.join(folder, file)\n",
    "    new_df = pd.read_csv(file_path)\n",
    "\n",
    "    X, X_train, y_train, X_test, y_test = prepare_dataframe(new_df, target)\n",
    "    \n",
    "    # Fit the model\n",
    "    catboost = CatBoostClassifier(verbose=0)\n",
    "    catboost.fit(X_train, y_train)\n",
    "\n",
    " \n",
    "    # Get feature importance\n",
    "    importances = catboost.get_feature_importance()\n",
    "\n",
    "    # Create a dataframe for better visualization\n",
    "    feature_importance = pd.DataFrame({'Feature': X.columns, 'Importance': importances})\n",
    "    feature_importance.sort_values(by='Importance', ascending=False, inplace=True)\n",
    "\n",
    "    # Plot feature importance\n",
    "    plt.figure(figsize=(10, 6))\n",
    "    plt.barh(feature_importance['Feature'], feature_importance['Importance'])\n",
    "    plt.xlabel('Importance')\n",
    "    plt.title('Feature Importance - CatBoost')\n",
    "    plt.gca().invert_yaxis()\n",
    "\n",
    "\n",
    "    # Save the figure in EPS format\n",
    "    plt.savefig('catboost.pdf', format='pdf', dpi = 1200)\n",
    "    plt.close()"
   ]
  },
  {
   "cell_type": "code",
   "execution_count": 29,
   "id": "456ccf1c-0471-4840-8087-5a9a27fb52d1",
   "metadata": {},
   "outputs": [],
   "source": [
    "catboost_features_importance(\"tomek_links.csv\", target)"
   ]
  },
  {
   "cell_type": "code",
   "execution_count": null,
   "id": "4aa09024-c609-4128-9619-26f15fab2e19",
   "metadata": {},
   "outputs": [],
   "source": []
  }
 ],
 "metadata": {
  "kernelspec": {
   "display_name": "Python 3 (ipykernel)",
   "language": "python",
   "name": "python3"
  },
  "language_info": {
   "codemirror_mode": {
    "name": "ipython",
    "version": 3
   },
   "file_extension": ".py",
   "mimetype": "text/x-python",
   "name": "python",
   "nbconvert_exporter": "python",
   "pygments_lexer": "ipython3",
   "version": "3.12.2"
  }
 },
 "nbformat": 4,
 "nbformat_minor": 5
}
