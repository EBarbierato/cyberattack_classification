{
 "cells": [
  {
   "cell_type": "code",
   "execution_count": 3,
   "id": "60b415cd-be0d-4820-af32-7402ca6e50a0",
   "metadata": {},
   "outputs": [],
   "source": [
    "import os\n",
    "import pandas as pd\n",
    "from sklearn.model_selection import train_test_split\n",
    "from sklearn.pipeline import Pipeline\n",
    "from sklearn.preprocessing import StandardScaler, LabelEncoder\n",
    "from sklearn.svm import SVC\n",
    "from sklearn.metrics import accuracy_score, classification_report\n"
   ]
  },
  {
   "cell_type": "code",
   "execution_count": 4,
   "id": "e7b965d6-536a-4c17-82c1-ba1d62e711c7",
   "metadata": {},
   "outputs": [],
   "source": [
    "import os\n",
    "\n",
    "\n",
    "files = [\n",
    "    'smote.csv',\n",
    "    'adasyn.csv',\n",
    "    'borderline_smote.csv',\n",
    "    'tomek_links.csv',\n",
    "    'smoteenn.csv',\n",
    "    'smotetomek.csv'\n",
    "]\n",
    "target = 'techniques_mitre'"
   ]
  },
  {
   "cell_type": "markdown",
   "id": "bec7eee2-cc20-4931-a3eb-1c36ce76312c",
   "metadata": {},
   "source": [
    "# SVM"
   ]
  },
  {
   "cell_type": "code",
   "execution_count": 5,
   "id": "add4f320-55b0-403f-b915-c8a5232e6fcf",
   "metadata": {},
   "outputs": [],
   "source": [
    "def svm_model(file):\n",
    "    folder = r'E:\\Dropbox\\Personale\\Ricerca\\XAI\\00. A.Gatti\\cyberattacks\\Dataset_simulazione'\n",
    "    file_path = os.path.join(folder, file)\n",
    "    new_df= pd.read_csv(file_path)\n",
    "\n",
    "    X = new_df.drop(target, axis=1)\n",
    "    y = new_df[target]\n",
    "\n",
    "    # Split the data into training and testing sets\n",
    "    X_train, X_test, y_train, y_test = train_test_split(X, y, test_size=0.2, random_state=42)\n",
    "\n",
    "    svm = SVC(kernel='linear')  # Using linear kernel, but I can check 'rbf' or others\n",
    "\n",
    "    # Fit the model on the training data\n",
    "    svm.fit(X_train, y_train)\n",
    "\n",
    "    # Predict on the test data\n",
    "    y_pred = svm.predict(X_test)\n",
    "\n",
    "    # Evaluate the model\n",
    "    print(file, \"Accuracy:\", accuracy_score(y_test, y_pred))\n",
    "    print(\"Classification Report:\")\n",
    "    print(classification_report(y_test, y_pred, zero_division=0))"
   ]
  },
  {
   "cell_type": "code",
   "execution_count": null,
   "id": "06af563d-bca8-4e6b-9020-bce0935a997a",
   "metadata": {},
   "outputs": [],
   "source": [
    "svm_model('smote.csv')"
   ]
  },
  {
   "cell_type": "code",
   "execution_count": null,
   "id": "d594dae0-9a60-47f0-ac54-cb69d3b45d75",
   "metadata": {},
   "outputs": [],
   "source": []
  }
 ],
 "metadata": {
  "kernelspec": {
   "display_name": "Python 3 (ipykernel)",
   "language": "python",
   "name": "python3"
  },
  "language_info": {
   "codemirror_mode": {
    "name": "ipython",
    "version": 3
   },
   "file_extension": ".py",
   "mimetype": "text/x-python",
   "name": "python",
   "nbconvert_exporter": "python",
   "pygments_lexer": "ipython3",
   "version": "3.12.2"
  }
 },
 "nbformat": 4,
 "nbformat_minor": 5
}
